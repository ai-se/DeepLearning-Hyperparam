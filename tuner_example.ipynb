{
 "cells": [
  {
   "cell_type": "code",
   "execution_count": 1,
   "metadata": {},
   "outputs": [],
   "source": [
    "import os\n",
    "import sys"
   ]
  },
  {
   "cell_type": "code",
   "execution_count": 2,
   "metadata": {},
   "outputs": [],
   "source": [
    "import numpy as np\n",
    "import data_utils\n",
    "import keras_tuner\n",
    "import keras_tuner_hyper\n",
    "import tensorflow\n",
    "import model_arch"
   ]
  },
  {
   "cell_type": "markdown",
   "metadata": {},
   "source": [
    "### NaiveCNN"
   ]
  },
  {
   "cell_type": "code",
   "execution_count": 3,
   "metadata": {},
   "outputs": [],
   "source": [
    "mnist_data = data_utils.load_mnist_dataset()"
   ]
  },
  {
   "cell_type": "code",
   "execution_count": 4,
   "metadata": {},
   "outputs": [],
   "source": [
    "keras_tuner_model = keras_tuner_hyper.MyHyperModel(model_arch_str=\"naivecnn\")"
   ]
  },
  {
   "cell_type": "code",
   "execution_count": 6,
   "metadata": {},
   "outputs": [],
   "source": [
    "TRIALS = 10 # Number of search trials\n",
    "PROJECT_NAME = \"naiveCNN\" # Saving directory name\n",
    "hp = keras_tuner.HyperParameters()"
   ]
  },
  {
   "cell_type": "code",
   "execution_count": 7,
   "metadata": {},
   "outputs": [],
   "source": [
    "tuner = keras_tuner.RandomSearch(keras_tuner_model, hyperparameters=hp, objective='val_accuracy', \n",
    "                                 max_trials=TRIALS, project_name=PROJECT_NAME)"
   ]
  },
  {
   "cell_type": "code",
   "execution_count": 21,
   "metadata": {},
   "outputs": [
    {
     "name": "stdout",
     "output_type": "stream",
     "text": [
      "Search space summary\n",
      "Default search space size: 10\n",
      "filters (Choice)\n",
      "{'default': 12, 'conditions': [], 'values': [6, 12, 24, 48, 96, 192], 'ordered': True}\n",
      "kernel_size (Choice)\n",
      "{'default': 3, 'conditions': [], 'values': [3, 5, 7, 9], 'ordered': True}\n",
      "activation (Choice)\n",
      "{'default': 'relu', 'conditions': [], 'values': ['tanh', 'relu', 'sigmoid'], 'ordered': False}\n",
      "pool_type (Choice)\n",
      "{'default': 'max', 'conditions': [], 'values': ['max', 'avg'], 'ordered': False}\n",
      "loss_function (Choice)\n",
      "{'default': 'categorical_crossentropy', 'conditions': [], 'values': ['categorical_crossentropy', 'poisson', 'kullback_leibler_divergence'], 'ordered': False}\n",
      "optimizer (Choice)\n",
      "{'default': 'Adam', 'conditions': [], 'values': ['SGD', 'RMSprop', 'Adam', 'Adadelta', 'Adagrad', 'Adamax', 'Nadam', 'Ftrl'], 'ordered': False}\n",
      "learning_rate (Float)\n",
      "{'default': 0.001, 'conditions': [], 'min_value': 0.0001, 'max_value': 0.1, 'step': None, 'sampling': 'log'}\n",
      "dropout_ratio (Float)\n",
      "{'default': 0.5, 'conditions': [], 'min_value': 0.0, 'max_value': 0.9, 'step': None, 'sampling': 'linear'}\n",
      "batch_size (Choice)\n",
      "{'default': 128, 'conditions': [], 'values': [1, 2, 4, 8, 16, 32, 64, 128, 256, 512], 'ordered': True}\n",
      "epochs (Int)\n",
      "{'default': 4, 'conditions': [], 'min_value': 1, 'max_value': 6, 'step': 1, 'sampling': 'linear'}\n"
     ]
    }
   ],
   "source": [
    "tuner.search_space_summary()"
   ]
  },
  {
   "cell_type": "code",
   "execution_count": 22,
   "metadata": {
    "scrolled": true
   },
   "outputs": [
    {
     "name": "stdout",
     "output_type": "stream",
     "text": [
      "INFO:tensorflow:Oracle triggered exit\n"
     ]
    }
   ],
   "source": [
    "tuner.search(x=mnist_data[\"training\"][0], y=mnist_data[\"training\"][1], verbose=2)"
   ]
  },
  {
   "cell_type": "code",
   "execution_count": 30,
   "metadata": {},
   "outputs": [
    {
     "name": "stdout",
     "output_type": "stream",
     "text": [
      "Results summary\n",
      "Results in test_1/test_1\n",
      "Showing 10 best trials\n",
      "<keras_tuner.engine.objective.Objective object at 0x7f199576a9e8>\n",
      "Trial summary\n",
      "Hyperparameters:\n",
      "filters: 6\n",
      "kernel_size: 7\n",
      "activation: sigmoid\n",
      "pool_type: avg\n",
      "loss_function: poisson\n",
      "optimizer: RMSprop\n",
      "learning_rate: 0.0006990081689951592\n",
      "dropout_ratio: 0.4437818596522012\n",
      "batch_size: 4\n",
      "epochs: 1\n",
      "Score: 0.9356666803359985\n",
      "Trial summary\n",
      "Hyperparameters:\n",
      "filters: 192\n",
      "kernel_size: 7\n",
      "activation: tanh\n",
      "pool_type: avg\n",
      "loss_function: poisson\n",
      "optimizer: Adamax\n",
      "learning_rate: 0.007957347120522306\n",
      "dropout_ratio: 0.4686853024433816\n",
      "batch_size: 8\n",
      "epochs: 1\n",
      "Score: 0.9163333177566528\n"
     ]
    }
   ],
   "source": [
    "tuner.results_summary()"
   ]
  },
  {
   "cell_type": "code",
   "execution_count": 10,
   "metadata": {},
   "outputs": [],
   "source": [
    "all_hyper_parameter_list = tuner.get_best_hyperparameters(num_trials=TRIALS)"
   ]
  },
  {
   "cell_type": "code",
   "execution_count": 12,
   "metadata": {},
   "outputs": [
    {
     "data": {
      "text/plain": [
       "<model_arch.NaiveCNNHyper at 0x7f199576a748>"
      ]
     },
     "execution_count": 12,
     "metadata": {},
     "output_type": "execute_result"
    }
   ],
   "source": [
    "# Load the model again using the parameters\n",
    "model = model_arch.NaiveCNNHyper(all_hyper_parameter_list[0].values)"
   ]
  },
  {
   "cell_type": "code",
   "execution_count": null,
   "metadata": {},
   "outputs": [],
   "source": []
  },
  {
   "cell_type": "markdown",
   "metadata": {},
   "source": [
    "### ResNet"
   ]
  },
  {
   "cell_type": "code",
   "execution_count": 3,
   "metadata": {},
   "outputs": [],
   "source": [
    "cifar_data = data_utils.load_cifar10_dataset()"
   ]
  },
  {
   "cell_type": "code",
   "execution_count": 4,
   "metadata": {},
   "outputs": [],
   "source": [
    "keras_tuner_model = keras_tuner_hyper.MyHyperModel(model_arch_str=\"resnet\")"
   ]
  },
  {
   "cell_type": "code",
   "execution_count": 9,
   "metadata": {},
   "outputs": [],
   "source": [
    "TRIALS = 2 # Number of search trials\n",
    "PROJECT_NAME = \"resnet\" # Saving directory name\n",
    "hp = keras_tuner.HyperParameters()"
   ]
  },
  {
   "cell_type": "code",
   "execution_count": 10,
   "metadata": {},
   "outputs": [],
   "source": [
    "tuner = keras_tuner.RandomSearch(keras_tuner_model, hyperparameters=hp, objective='val_accuracy', \n",
    "                                 max_trials=TRIALS, project_name=PROJECT_NAME)"
   ]
  },
  {
   "cell_type": "code",
   "execution_count": 11,
   "metadata": {},
   "outputs": [
    {
     "name": "stdout",
     "output_type": "stream",
     "text": [
      "Search space summary\n",
      "Default search space size: 15\n",
      "kernel_size (Choice)\n",
      "{'default': 7, 'conditions': [], 'values': [3, 5, 7, 9], 'ordered': True}\n",
      "filters_1 (Choice)\n",
      "{'default': 64, 'conditions': [], 'values': [16, 32, 64, 128], 'ordered': True}\n",
      "filters_2 (Choice)\n",
      "{'default': 64, 'conditions': [], 'values': [16, 32, 64, 128], 'ordered': True}\n",
      "filters_3 (Choice)\n",
      "{'default': 128, 'conditions': [], 'values': [16, 32, 64, 128, 256], 'ordered': True}\n",
      "filters_4 (Choice)\n",
      "{'default': 256, 'conditions': [], 'values': [16, 32, 64, 128, 256, 512], 'ordered': True}\n",
      "filters_5 (Choice)\n",
      "{'default': 512, 'conditions': [], 'values': [16, 32, 64, 128, 256, 512, 1024], 'ordered': True}\n",
      "activation (Choice)\n",
      "{'default': 'relu', 'conditions': [], 'values': ['tanh', 'relu', 'sigmoid'], 'ordered': False}\n",
      "dropout_ratio (Float)\n",
      "{'default': 0.5, 'conditions': [], 'min_value': 0.0, 'max_value': 0.9, 'step': None, 'sampling': 'linear'}\n",
      "pooling_1 (Choice)\n",
      "{'default': 'max', 'conditions': [], 'values': ['avg', 'max'], 'ordered': False}\n",
      "pooling_2 (Choice)\n",
      "{'default': 'globalavg', 'conditions': [], 'values': ['globalavg', 'globalmax'], 'ordered': False}\n",
      "loss_function (Choice)\n",
      "{'default': 'categorical_crossentropy', 'conditions': [], 'values': ['categorical_crossentropy', 'poisson', 'kullback_leibler_divergence'], 'ordered': False}\n",
      "optimizer (Choice)\n",
      "{'default': 'Adam', 'conditions': [], 'values': ['SGD', 'RMSprop', 'Adam', 'Adadelta', 'Adagrad', 'Adamax', 'Nadam', 'Ftrl'], 'ordered': False}\n",
      "learning_rate (Float)\n",
      "{'default': 0.01, 'conditions': [], 'min_value': 0.0001, 'max_value': 0.1, 'step': None, 'sampling': 'log'}\n",
      "batch_size (Choice)\n",
      "{'default': 32, 'conditions': [], 'values': [16, 32, 64, 128, 256, 512], 'ordered': True}\n",
      "epochs (Int)\n",
      "{'default': 4, 'conditions': [], 'min_value': 1, 'max_value': 1, 'step': 1, 'sampling': 'linear'}\n"
     ]
    }
   ],
   "source": [
    "tuner.search_space_summary()"
   ]
  },
  {
   "cell_type": "code",
   "execution_count": null,
   "metadata": {},
   "outputs": [],
   "source": [
    "tuner.search(x=cifar_data[\"training\"][0], y=cifar_data[\"training\"][1], verbose=2)"
   ]
  },
  {
   "cell_type": "code",
   "execution_count": 13,
   "metadata": {},
   "outputs": [
    {
     "name": "stdout",
     "output_type": "stream",
     "text": [
      "Results summary\n",
      "Results in ./resnet\n",
      "Showing 10 best trials\n",
      "<keras_tuner.engine.objective.Objective object at 0x7f02a6e4fd68>\n",
      "Trial summary\n",
      "Hyperparameters:\n",
      "kernel_size: 9\n",
      "filters_1: 64\n",
      "filters_2: 128\n",
      "filters_3: 256\n",
      "filters_4: 64\n",
      "filters_5: 128\n",
      "activation: relu\n",
      "dropout_ratio: 0.2466467699517267\n",
      "pooling_1: avg\n",
      "pooling_2: globalmax\n",
      "loss_function: poisson\n",
      "optimizer: Adadelta\n",
      "learning_rate: 0.0023520605992154164\n",
      "batch_size: 32\n",
      "epochs: 1\n",
      "Score: 0.13539999723434448\n"
     ]
    }
   ],
   "source": [
    "tuner.results_summary()"
   ]
  },
  {
   "cell_type": "code",
   "execution_count": 14,
   "metadata": {},
   "outputs": [],
   "source": [
    "all_hyper_parameter_list = tuner.get_best_hyperparameters(num_trials=TRIALS)"
   ]
  },
  {
   "cell_type": "code",
   "execution_count": 16,
   "metadata": {},
   "outputs": [],
   "source": [
    "# Load the model again using the parameters\n",
    "model = model_arch.ResNetHyper(all_hyper_parameter_list[0].values)"
   ]
  },
  {
   "cell_type": "markdown",
   "metadata": {},
   "source": [
    "### CNN for TEXT"
   ]
  },
  {
   "cell_type": "code",
   "execution_count": 18,
   "metadata": {},
   "outputs": [
    {
     "name": "stdout",
     "output_type": "stream",
     "text": [
      "Downloading data from https://storage.googleapis.com/tensorflow/tf-keras-datasets/imdb.npz\n",
      "17465344/17464789 [==============================] - 0s 0us/step\n",
      "17473536/17464789 [==============================] - 0s 0us/step\n"
     ]
    }
   ],
   "source": [
    "imdb_data = data_utils.load_imdb_dataset(maxlen=500)"
   ]
  },
  {
   "cell_type": "code",
   "execution_count": 17,
   "metadata": {},
   "outputs": [],
   "source": [
    "keras_tuner_model = keras_tuner_hyper.MyHyperModel(model_arch_str=\"cnntext\")"
   ]
  },
  {
   "cell_type": "code",
   "execution_count": 20,
   "metadata": {},
   "outputs": [],
   "source": [
    "TRIALS = 1 # Number of search trials\n",
    "PROJECT_NAME = \"cnntext\" # Saving directory name\n",
    "hp = keras_tuner.HyperParameters()"
   ]
  },
  {
   "cell_type": "code",
   "execution_count": 21,
   "metadata": {},
   "outputs": [],
   "source": [
    "tuner = keras_tuner.RandomSearch(keras_tuner_model, hyperparameters=hp, objective='val_accuracy', \n",
    "                                 max_trials=TRIALS, project_name=PROJECT_NAME)"
   ]
  },
  {
   "cell_type": "code",
   "execution_count": 22,
   "metadata": {
    "scrolled": true
   },
   "outputs": [
    {
     "name": "stdout",
     "output_type": "stream",
     "text": [
      "Search space summary\n",
      "Default search space size: 17\n",
      "filters_1 (Choice)\n",
      "{'default': 128, 'conditions': [], 'values': [8, 16, 32, 64, 128, 256], 'ordered': True}\n",
      "filters_2 (Choice)\n",
      "{'default': 128, 'conditions': [], 'values': [8, 16, 32, 64, 128, 256], 'ordered': True}\n",
      "kernel_size_1 (Choice)\n",
      "{'default': 7, 'conditions': [], 'values': [3, 5, 7, 9], 'ordered': True}\n",
      "kernel_size_2 (Choice)\n",
      "{'default': 7, 'conditions': [], 'values': [3, 5, 7, 9], 'ordered': True}\n",
      "neurons (Choice)\n",
      "{'default': 128, 'conditions': [], 'values': [8, 16, 32, 64, 128, 256], 'ordered': True}\n",
      "embedding_dim (Choice)\n",
      "{'default': 128, 'conditions': [], 'values': [8, 16, 32, 64, 128, 256], 'ordered': True}\n",
      "activation_1 (Choice)\n",
      "{'default': 'relu', 'conditions': [], 'values': ['tanh', 'relu', 'sigmoid'], 'ordered': False}\n",
      "activation_2 (Choice)\n",
      "{'default': 'relu', 'conditions': [], 'values': ['tanh', 'relu', 'sigmoid'], 'ordered': False}\n",
      "activation_3 (Choice)\n",
      "{'default': 'relu', 'conditions': [], 'values': ['tanh', 'relu', 'sigmoid'], 'ordered': False}\n",
      "dropout_ratio_1 (Float)\n",
      "{'default': 0.5, 'conditions': [], 'min_value': 0.0, 'max_value': 0.9, 'step': None, 'sampling': 'linear'}\n",
      "dropout_ratio_2 (Float)\n",
      "{'default': 0.5, 'conditions': [], 'min_value': 0.0, 'max_value': 0.9, 'step': None, 'sampling': 'linear'}\n",
      "pool_type (Choice)\n",
      "{'default': 'globalmax', 'conditions': [], 'values': ['globalmax', 'globalavg'], 'ordered': False}\n",
      "loss_function (Choice)\n",
      "{'default': 'binary_crossentropy', 'conditions': [], 'values': ['binary_crossentropy', 'poisson', 'kullback_leibler_divergence'], 'ordered': False}\n",
      "optimizer (Choice)\n",
      "{'default': 'Adam', 'conditions': [], 'values': ['SGD', 'RMSprop', 'Adam', 'Adadelta', 'Adagrad', 'Adamax', 'Nadam', 'Ftrl'], 'ordered': False}\n",
      "learning_rate (Float)\n",
      "{'default': 0.001, 'conditions': [], 'min_value': 0.0001, 'max_value': 0.1, 'step': None, 'sampling': 'log'}\n",
      "batch_size (Choice)\n",
      "{'default': 32, 'conditions': [], 'values': [16, 32, 64, 128, 256, 512], 'ordered': True}\n",
      "epochs (Int)\n",
      "{'default': 4, 'conditions': [], 'min_value': 1, 'max_value': 1, 'step': 1, 'sampling': 'linear'}\n"
     ]
    }
   ],
   "source": [
    "tuner.search_space_summary()"
   ]
  },
  {
   "cell_type": "code",
   "execution_count": 23,
   "metadata": {},
   "outputs": [
    {
     "name": "stdout",
     "output_type": "stream",
     "text": [
      "Trial 1 Complete [00h 00m 17s]\n",
      "val_accuracy: 0.4875999987125397\n",
      "\n",
      "Best val_accuracy So Far: 0.4875999987125397\n",
      "Total elapsed time: 00h 00m 17s\n",
      "INFO:tensorflow:Oracle triggered exit\n"
     ]
    }
   ],
   "source": [
    "tuner.search(x=imdb_data[\"training\"][0], y=imdb_data[\"training\"][1], verbose=2)"
   ]
  },
  {
   "cell_type": "code",
   "execution_count": 24,
   "metadata": {},
   "outputs": [
    {
     "name": "stdout",
     "output_type": "stream",
     "text": [
      "Results summary\n",
      "Results in ./cnntext\n",
      "Showing 10 best trials\n",
      "<keras_tuner.engine.objective.Objective object at 0x7f0150240f28>\n",
      "Trial summary\n",
      "Hyperparameters:\n",
      "filters_1: 8\n",
      "filters_2: 32\n",
      "kernel_size_1: 7\n",
      "kernel_size_2: 9\n",
      "neurons: 256\n",
      "embedding_dim: 256\n",
      "activation_1: relu\n",
      "activation_2: tanh\n",
      "activation_3: relu\n",
      "dropout_ratio_1: 0.15603568428681694\n",
      "dropout_ratio_2: 0.8910251109486276\n",
      "pool_type: globalavg\n",
      "loss_function: kullback_leibler_divergence\n",
      "optimizer: Adam\n",
      "learning_rate: 0.024228678768360996\n",
      "batch_size: 64\n",
      "epochs: 1\n",
      "Score: 0.4875999987125397\n"
     ]
    }
   ],
   "source": [
    "tuner.results_summary()"
   ]
  },
  {
   "cell_type": "code",
   "execution_count": 25,
   "metadata": {},
   "outputs": [],
   "source": [
    "all_hyper_parameter_list = tuner.get_best_hyperparameters(num_trials=TRIALS)"
   ]
  },
  {
   "cell_type": "code",
   "execution_count": 26,
   "metadata": {},
   "outputs": [],
   "source": [
    "# Load the model again using the parameters\n",
    "model = model_arch.CNNTextHyper(all_hyper_parameter_list[0].values)"
   ]
  },
  {
   "cell_type": "markdown",
   "metadata": {},
   "source": [
    "### LSTM"
   ]
  },
  {
   "cell_type": "code",
   "execution_count": 27,
   "metadata": {},
   "outputs": [],
   "source": [
    "imdb_data = data_utils.load_imdb_dataset(maxlen=200)"
   ]
  },
  {
   "cell_type": "code",
   "execution_count": 31,
   "metadata": {},
   "outputs": [],
   "source": [
    "keras_tuner_model = keras_tuner_hyper.MyHyperModel(model_arch_str=\"lstmtext\")"
   ]
  },
  {
   "cell_type": "code",
   "execution_count": 29,
   "metadata": {},
   "outputs": [],
   "source": [
    "TRIALS = 1 # Number of search trials\n",
    "PROJECT_NAME = \"lstm\" # Saving directory name\n",
    "hp = keras_tuner.HyperParameters()"
   ]
  },
  {
   "cell_type": "code",
   "execution_count": 32,
   "metadata": {},
   "outputs": [],
   "source": [
    "tuner = keras_tuner.RandomSearch(keras_tuner_model, hyperparameters=hp, objective='val_accuracy', \n",
    "                                 max_trials=TRIALS, project_name=PROJECT_NAME)"
   ]
  },
  {
   "cell_type": "code",
   "execution_count": 36,
   "metadata": {},
   "outputs": [
    {
     "name": "stdout",
     "output_type": "stream",
     "text": [
      "Trial 1 Complete [00h 02m 28s]\n",
      "val_accuracy: 0.4875999987125397\n",
      "\n",
      "Best val_accuracy So Far: 0.4875999987125397\n",
      "Total elapsed time: 00h 02m 28s\n",
      "INFO:tensorflow:Oracle triggered exit\n"
     ]
    }
   ],
   "source": [
    "tuner.search(x=imdb_data[\"training\"][0], y=imdb_data[\"training\"][1], verbose=2)"
   ]
  },
  {
   "cell_type": "code",
   "execution_count": 37,
   "metadata": {},
   "outputs": [
    {
     "name": "stdout",
     "output_type": "stream",
     "text": [
      "Results summary\n",
      "Results in ./lstm\n",
      "Showing 10 best trials\n",
      "<keras_tuner.engine.objective.Objective object at 0x7f02a441eba8>\n",
      "Trial summary\n",
      "Hyperparameters:\n",
      "units_1: 32\n",
      "units_2: 256\n",
      "embedding_dim: 16\n",
      "dropout_ratio: 0.29791959739652824\n",
      "activation_1: relu\n",
      "activation_2: tanh\n",
      "loss_function: kullback_leibler_divergence\n",
      "optimizer: Adadelta\n",
      "learning_rate: 0.0001438064458547845\n",
      "batch_size: 64\n",
      "epochs: 1\n",
      "Score: 0.4875999987125397\n"
     ]
    }
   ],
   "source": [
    "tuner.results_summary()"
   ]
  },
  {
   "cell_type": "code",
   "execution_count": 38,
   "metadata": {},
   "outputs": [],
   "source": [
    "all_hyper_parameter_list = tuner.get_best_hyperparameters(num_trials=TRIALS)"
   ]
  },
  {
   "cell_type": "code",
   "execution_count": 39,
   "metadata": {},
   "outputs": [],
   "source": [
    "# Load the model again using the parameters\n",
    "model = model_arch.LSTMTextHyper(all_hyper_parameter_list[0].values)"
   ]
  }
 ],
 "metadata": {
  "interpreter": {
   "hash": "d37f4164b31c0e62522f9ed658283d5e73603a298b2dd09a711a63b6dfec4243"
  },
  "kernelspec": {
   "display_name": "voter",
   "language": "python",
   "name": "voter"
  },
  "language_info": {
   "codemirror_mode": {
    "name": "ipython",
    "version": 3
   },
   "file_extension": ".py",
   "mimetype": "text/x-python",
   "name": "python",
   "nbconvert_exporter": "python",
   "pygments_lexer": "ipython3",
   "version": "3.6.13"
  }
 },
 "nbformat": 4,
 "nbformat_minor": 2
}
