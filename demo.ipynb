{
 "cells": [
  {
   "cell_type": "markdown",
   "id": "71f14a62",
   "metadata": {},
   "source": [
    "## MNIST training"
   ]
  },
  {
   "cell_type": "code",
   "execution_count": 102,
   "id": "6dc70d30",
   "metadata": {},
   "outputs": [],
   "source": [
    "import data_utils\n",
    "import model_arch\n",
    "import json"
   ]
  },
  {
   "cell_type": "code",
   "execution_count": 6,
   "id": "bd6a8abd",
   "metadata": {},
   "outputs": [],
   "source": [
    "mnist_data = data_utils.load_mnist_dataset()"
   ]
  },
  {
   "cell_type": "code",
   "execution_count": 8,
   "id": "3ec0baa0",
   "metadata": {
    "scrolled": true
   },
   "outputs": [
    {
     "name": "stdout",
     "output_type": "stream",
     "text": [
      "Num of instance in training data: 60000\n"
     ]
    }
   ],
   "source": [
    "print(\"Num of instance in training data: {}\".format(len(mnist_data[\"training\"][0])))"
   ]
  },
  {
   "cell_type": "code",
   "execution_count": 119,
   "id": "6266ade4",
   "metadata": {},
   "outputs": [],
   "source": [
    "with open(\"hyper_param/mnistcnn_hyperparam.txt\", \"r\") as ifile:\n",
    "    mnistcnn_hyperparam = json.loads(ifile.read())\n",
    "with open(\"hyper_param/default_mnistcnn_hyperparam.txt\", \"r\") as ifile:\n",
    "    default_mnistcnn_hyperparam = json.loads(ifile.read())"
   ]
  },
  {
   "cell_type": "code",
   "execution_count": 120,
   "id": "571287eb",
   "metadata": {},
   "outputs": [],
   "source": [
    "model_wrapper = model_arch.NaiveCNN(default_mnist_hyperparam)"
   ]
  },
  {
   "cell_type": "code",
   "execution_count": 48,
   "id": "b68fb15a",
   "metadata": {},
   "outputs": [
    {
     "data": {
      "text/plain": [
       "<keras.engine.functional.Functional at 0x7ff9d70a53a0>"
      ]
     },
     "execution_count": 48,
     "metadata": {},
     "output_type": "execute_result"
    }
   ],
   "source": [
    "model_wrapper.build_model()"
   ]
  },
  {
   "cell_type": "code",
   "execution_count": 49,
   "id": "52fe5ca9",
   "metadata": {
    "scrolled": true
   },
   "outputs": [
    {
     "name": "stdout",
     "output_type": "stream",
     "text": [
      "Epoch 1/4\n",
      "469/469 [==============================] - 3s 5ms/step - loss: 0.5223 - accuracy: 0.8525\n",
      "Epoch 2/4\n",
      "469/469 [==============================] - 2s 5ms/step - loss: 0.2634 - accuracy: 0.9222\n",
      "Epoch 3/4\n",
      "469/469 [==============================] - 2s 5ms/step - loss: 0.2114 - accuracy: 0.9377\n",
      "Epoch 4/4\n",
      "469/469 [==============================] - 2s 5ms/step - loss: 0.1786 - accuracy: 0.9470\n"
     ]
    }
   ],
   "source": [
    "model_wrapper.train(mnist_data[\"training\"][0], mnist_data[\"training\"][1])"
   ]
  },
  {
   "cell_type": "code",
   "execution_count": 50,
   "id": "43db1754",
   "metadata": {},
   "outputs": [
    {
     "name": "stdout",
     "output_type": "stream",
     "text": [
      "79/79 [==============================] - 0s 4ms/step - loss: 0.1152 - accuracy: 0.9669\n"
     ]
    },
    {
     "data": {
      "text/plain": [
       "0.9668999910354614"
      ]
     },
     "execution_count": 50,
     "metadata": {},
     "output_type": "execute_result"
    }
   ],
   "source": [
    "accuracy = model_wrapper.evaluate(mnist_data[\"testing\"][0], mnist_data[\"testing\"][1])\n",
    "print(\"accuracy is {}\".format(accuracy))"
   ]
  },
  {
   "cell_type": "markdown",
   "id": "0359b380",
   "metadata": {},
   "source": [
    "## ResNet training"
   ]
  },
  {
   "cell_type": "code",
   "execution_count": 59,
   "id": "6813b45a",
   "metadata": {},
   "outputs": [
    {
     "name": "stdout",
     "output_type": "stream",
     "text": [
      "Downloading data from https://www.cs.toronto.edu/~kriz/cifar-10-python.tar.gz\n",
      "170500096/170498071 [==============================] - 28s 0us/step\n",
      "170508288/170498071 [==============================] - 28s 0us/step\n"
     ]
    }
   ],
   "source": [
    "cifar_data = data_utils.load_cifar10_dataset()"
   ]
  },
  {
   "cell_type": "code",
   "execution_count": 121,
   "id": "32acacf2",
   "metadata": {},
   "outputs": [],
   "source": [
    "with open(\"hyper_param/resnet_hyperparam.txt\", \"r\") as ifile:\n",
    "    resnet_hyperparam = json.loads(ifile.read())\n",
    "with open(\"hyper_param/default_resnet_hyperparam.txt\", \"r\") as ifile:\n",
    "    default_resnet_hyperparam = json.loads(ifile.read())"
   ]
  },
  {
   "cell_type": "code",
   "execution_count": null,
   "id": "e61b4724",
   "metadata": {},
   "outputs": [],
   "source": []
  },
  {
   "cell_type": "code",
   "execution_count": 58,
   "id": "000b6f4f",
   "metadata": {},
   "outputs": [],
   "source": [
    "model_wrapper = model_arch.ResNetHyper(default_resnet_hyperparam)"
   ]
  },
  {
   "cell_type": "code",
   "execution_count": 61,
   "id": "af99bae9",
   "metadata": {},
   "outputs": [
    {
     "data": {
      "text/plain": [
       "<keras.engine.functional.Functional at 0x7ff9d765ea00>"
      ]
     },
     "execution_count": 61,
     "metadata": {},
     "output_type": "execute_result"
    }
   ],
   "source": [
    "model_wrapper.build_model()"
   ]
  },
  {
   "cell_type": "code",
   "execution_count": null,
   "id": "f9de08e4",
   "metadata": {
    "scrolled": true
   },
   "outputs": [],
   "source": [
    "model_wrapper.train(cifar_data[\"training\"][0], cifar_data[\"training\"][1])"
   ]
  },
  {
   "cell_type": "code",
   "execution_count": 63,
   "id": "ce19e554",
   "metadata": {},
   "outputs": [
    {
     "name": "stdout",
     "output_type": "stream",
     "text": [
      "313/313 [==============================] - 6s 19ms/step - loss: 2.0826 - accuracy: 0.2198\n"
     ]
    },
    {
     "data": {
      "text/plain": [
       "0.21979999542236328"
      ]
     },
     "execution_count": 63,
     "metadata": {},
     "output_type": "execute_result"
    }
   ],
   "source": [
    "model_wrapper.evaluate(cifar_data[\"testing\"][0], cifar_data[\"testing\"][1])"
   ]
  },
  {
   "cell_type": "markdown",
   "id": "631a09fc",
   "metadata": {},
   "source": [
    "## CNN for TEXT"
   ]
  },
  {
   "cell_type": "code",
   "execution_count": 79,
   "id": "008a0eef",
   "metadata": {},
   "outputs": [
    {
     "name": "stdout",
     "output_type": "stream",
     "text": [
      "Downloading data from https://storage.googleapis.com/tensorflow/tf-keras-datasets/imdb.npz\n",
      "17465344/17464789 [==============================] - 2s 0us/step\n",
      "17473536/17464789 [==============================] - 2s 0us/step\n"
     ]
    }
   ],
   "source": [
    "imdb_data = data_utils.load_imdb_dataset(maxlen=500)"
   ]
  },
  {
   "cell_type": "code",
   "execution_count": 64,
   "id": "3c568bce",
   "metadata": {},
   "outputs": [],
   "source": [
    "cnntext_hyperparam = {\n",
    "    \"categorical\": {\n",
    "        \"filters_1\": [8, 16, 32, 64, 128, 256], \n",
    "        \"filters_2\": [8, 16, 32, 64, 128, 256], \n",
    "        \"kernel_size_1\": [3, 5, 7, 9],\n",
    "        \"kernel_size_2\": [3, 5, 7, 9],\n",
    "        \"neurons\": [8, 16, 32, 64, 128, 256],\n",
    "        \"embedding_dim\": [8, 16, 32, 64, 128, 256],\n",
    "        \"activation_1\": ['tanh', 'relu', 'sigmoid'],\n",
    "        \"activation_2\": ['tanh', 'relu', 'sigmoid'],\n",
    "        \"activation_3\": ['tanh', 'relu', 'sigmoid'],\n",
    "        \"pool_type\": ['globalmax', 'globalavg'],\n",
    "        \"loss_function\": ['binary_crossentropy', 'poisson', 'kullback_leibler_divergence'],\n",
    "        \"optimizer\": ['SGD', 'RMSprop', 'Adam', 'Adadelta', 'Adagrad', 'Adamax', 'Nadam', 'Ftrl'],\n",
    "        \"batch_size\": [16, 32, 64, 128, 256, 512],\n",
    "    },\n",
    "    \"numerical\":{\n",
    "        \"dropout_ratio_1\": {\"lower\":0.0, \"upper\":0.9, \"sample\": \"linear\"},\n",
    "        \"dropout_ratio_2\": {\"lower\":0.0, \"upper\":0.9, \"sample\": \"linear\"},\n",
    "        \"learning_rate\": {\"lower\": 1e-4, \"upeer\": 1e-1, \"sample\": \"log\"},\n",
    "        \"epochs\": {\"lower\": 1, \"upeer\": 100, \"sample\": \"linear\"},\n",
    "    }\n",
    "}"
   ]
  },
  {
   "cell_type": "code",
   "execution_count": 73,
   "id": "912cfb2f",
   "metadata": {},
   "outputs": [],
   "source": [
    "default_cnntext_hyperparam = {\n",
    "    \"filters_1\": 128,\n",
    "    \"filters_2\": 128,\n",
    "    \"kernel_size_1\": 7,\n",
    "    \"kernel_size_2\": 7,\n",
    "    \"neurons\": 128,\n",
    "    \"embedding_dim\": 128,\n",
    "    \"activation_1\": \"relu\",\n",
    "    \"activation_2\": \"relu\",\n",
    "    \"activation_3\": \"relu\",\n",
    "    \"dropout_ratio_1\": 0.5,\n",
    "    \"dropout_ratio_2\": 0.5,\n",
    "    \"pool_type\": \"globalmax\",\n",
    "    \"loss_function\": \"binary_crossentropy\",\n",
    "    \"optimizer\": \"Adam\",\n",
    "    \"batch_size\": 32,\n",
    "    \"epochs\": 3,\n",
    "    \"learning_rate\": 1e-3\n",
    "}"
   ]
  },
  {
   "cell_type": "code",
   "execution_count": 94,
   "id": "d874aae7",
   "metadata": {},
   "outputs": [],
   "source": [
    "model_wrapper = model_arch.CNNTextHyper(default_cnntext_hyperparam)"
   ]
  },
  {
   "cell_type": "code",
   "execution_count": 95,
   "id": "0408b709",
   "metadata": {},
   "outputs": [
    {
     "data": {
      "text/plain": [
       "<keras.engine.functional.Functional at 0x7ff9d5742f70>"
      ]
     },
     "execution_count": 95,
     "metadata": {},
     "output_type": "execute_result"
    }
   ],
   "source": [
    "model_wrapper.build_model()"
   ]
  },
  {
   "cell_type": "code",
   "execution_count": null,
   "id": "7f426b80",
   "metadata": {},
   "outputs": [],
   "source": [
    "model_wrapper.train(imdb_data[\"training\"][0], imdb_data[\"training\"][1])"
   ]
  },
  {
   "cell_type": "code",
   "execution_count": 81,
   "id": "c41dae4f",
   "metadata": {},
   "outputs": [
    {
     "name": "stdout",
     "output_type": "stream",
     "text": [
      "782/782 [==============================] - 4s 4ms/step - loss: 0.3978 - accuracy: 0.8560\n"
     ]
    },
    {
     "data": {
      "text/plain": [
       "0.8559600114822388"
      ]
     },
     "execution_count": 81,
     "metadata": {},
     "output_type": "execute_result"
    }
   ],
   "source": [
    "model_wrapper.evaluate(imdb_data[\"testing\"][0], imdb_data[\"testing\"][1])"
   ]
  },
  {
   "cell_type": "markdown",
   "id": "c6c94b0e",
   "metadata": {},
   "source": [
    "## LSTM"
   ]
  },
  {
   "cell_type": "code",
   "execution_count": 97,
   "id": "046afc18",
   "metadata": {},
   "outputs": [],
   "source": [
    "imdb_data = data_utils.load_imdb_dataset(maxlen=200)"
   ]
  },
  {
   "cell_type": "code",
   "execution_count": 98,
   "id": "ae9f6fac",
   "metadata": {},
   "outputs": [],
   "source": [
    "model_wrapper = model_arch.LSTMTextHyper(default_lstm_hyperparam)"
   ]
  },
  {
   "cell_type": "code",
   "execution_count": 99,
   "id": "a1faee1c",
   "metadata": {},
   "outputs": [
    {
     "data": {
      "text/plain": [
       "<keras.engine.functional.Functional at 0x7ff9c4c9ed90>"
      ]
     },
     "execution_count": 99,
     "metadata": {},
     "output_type": "execute_result"
    }
   ],
   "source": [
    "model_wrapper.build_model()"
   ]
  },
  {
   "cell_type": "code",
   "execution_count": 100,
   "id": "82a705ea",
   "metadata": {
    "scrolled": true
   },
   "outputs": [
    {
     "name": "stdout",
     "output_type": "stream",
     "text": [
      "Epoch 1/2\n",
      "704/704 [==============================] - 31s 38ms/step - loss: 0.4048 - accuracy: 0.8206 - val_loss: 0.3419 - val_accuracy: 0.8580\n",
      "Epoch 2/2\n",
      "704/704 [==============================] - 26s 36ms/step - loss: 0.2186 - accuracy: 0.9167 - val_loss: 0.3063 - val_accuracy: 0.8684\n"
     ]
    }
   ],
   "source": [
    "model_wrapper.train(imdb_data[\"training\"][0], imdb_data[\"training\"][1])"
   ]
  },
  {
   "cell_type": "code",
   "execution_count": null,
   "id": "3c3e8d40",
   "metadata": {},
   "outputs": [],
   "source": [
    "model_wrapper.evaluate(imdb_data[\"testing\"][0], imdb_data[\"testing\"][1])"
   ]
  }
 ],
 "metadata": {
  "kernelspec": {
   "display_name": "Python 3",
   "language": "python",
   "name": "python3"
  },
  "language_info": {
   "codemirror_mode": {
    "name": "ipython",
    "version": 3
   },
   "file_extension": ".py",
   "mimetype": "text/x-python",
   "name": "python",
   "nbconvert_exporter": "python",
   "pygments_lexer": "ipython3",
   "version": "3.8.5"
  }
 },
 "nbformat": 4,
 "nbformat_minor": 5
}
