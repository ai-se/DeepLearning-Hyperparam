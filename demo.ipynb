{
 "cells": [
  {
   "cell_type": "markdown",
   "id": "87ffbcbc",
   "metadata": {},
   "source": [
    "## MNIST training"
   ]
  },
  {
   "cell_type": "code",
   "execution_count": 1,
   "id": "d13d585d",
   "metadata": {},
   "outputs": [],
   "source": [
    "import data_utils\n",
    "import model_arch\n",
    "import json"
   ]
  },
  {
   "cell_type": "code",
   "execution_count": 2,
   "id": "5351ac4b",
   "metadata": {},
   "outputs": [],
   "source": [
    "mnist_data = data_utils.load_mnist_dataset()"
   ]
  },
  {
   "cell_type": "code",
   "execution_count": 3,
   "id": "99c1f5eb",
   "metadata": {
    "scrolled": true
   },
   "outputs": [
    {
     "name": "stdout",
     "output_type": "stream",
     "text": [
      "Num of instance in training data: 60000\n"
     ]
    }
   ],
   "source": [
    "print(\"Num of instance in training data: {}\".format(len(mnist_data[\"training\"][0])))"
   ]
  },
  {
   "cell_type": "code",
   "execution_count": 4,
   "id": "e2378426",
   "metadata": {},
   "outputs": [],
   "source": [
    "with open(\"hyper_param/mnistcnn_hyperparam.txt\", \"r\") as ifile:\n",
    "    mnistcnn_hyperparam = json.loads(ifile.read())\n",
    "with open(\"hyper_param/default_mnistcnn_hyperparam.txt\", \"r\") as ifile:\n",
    "    default_mnistcnn_hyperparam = json.loads(ifile.read())"
   ]
  },
  {
   "cell_type": "code",
   "execution_count": 6,
   "id": "50ca0bfe",
   "metadata": {},
   "outputs": [
    {
     "data": {
      "text/plain": [
       "{'filters': 12,\n",
       " 'kernel_size': 3,\n",
       " 'activation': 'relu',\n",
       " 'pool_type': 'max',\n",
       " 'loss_function': 'categorical_crossentropy',\n",
       " 'optimizer': 'Adam',\n",
       " 'batch_size': 128,\n",
       " 'dropout_ratio': 0.5,\n",
       " 'learning_rate': 0.001,\n",
       " 'epochs': 4}"
      ]
     },
     "execution_count": 6,
     "metadata": {},
     "output_type": "execute_result"
    }
   ],
   "source": [
    "default_mnistcnn_hyperparam"
   ]
  },
  {
   "cell_type": "code",
   "execution_count": 8,
   "id": "174dc8df",
   "metadata": {},
   "outputs": [],
   "source": [
    "model_wrapper = model_arch.NaiveCNNHyper(default_mnistcnn_hyperparam)"
   ]
  },
  {
   "cell_type": "code",
   "execution_count": 48,
   "id": "12447852",
   "metadata": {},
   "outputs": [
    {
     "data": {
      "text/plain": [
       "<keras.engine.functional.Functional at 0x7ff9d70a53a0>"
      ]
     },
     "execution_count": 48,
     "metadata": {},
     "output_type": "execute_result"
    }
   ],
   "source": [
    "model_wrapper.build_model()"
   ]
  },
  {
   "cell_type": "code",
   "execution_count": 49,
   "id": "5248d873",
   "metadata": {
    "scrolled": true
   },
   "outputs": [
    {
     "name": "stdout",
     "output_type": "stream",
     "text": [
      "Epoch 1/4\n",
      "469/469 [==============================] - 3s 5ms/step - loss: 0.5223 - accuracy: 0.8525\n",
      "Epoch 2/4\n",
      "469/469 [==============================] - 2s 5ms/step - loss: 0.2634 - accuracy: 0.9222\n",
      "Epoch 3/4\n",
      "469/469 [==============================] - 2s 5ms/step - loss: 0.2114 - accuracy: 0.9377\n",
      "Epoch 4/4\n",
      "469/469 [==============================] - 2s 5ms/step - loss: 0.1786 - accuracy: 0.9470\n"
     ]
    }
   ],
   "source": [
    "model_wrapper.train(mnist_data[\"training\"][0], mnist_data[\"training\"][1])"
   ]
  },
  {
   "cell_type": "code",
   "execution_count": 50,
   "id": "7a14e2fb",
   "metadata": {},
   "outputs": [
    {
     "name": "stdout",
     "output_type": "stream",
     "text": [
      "79/79 [==============================] - 0s 4ms/step - loss: 0.1152 - accuracy: 0.9669\n"
     ]
    },
    {
     "data": {
      "text/plain": [
       "0.9668999910354614"
      ]
     },
     "execution_count": 50,
     "metadata": {},
     "output_type": "execute_result"
    }
   ],
   "source": [
    "accuracy = model_wrapper.evaluate(mnist_data[\"testing\"][0], mnist_data[\"testing\"][1])\n",
    "print(\"accuracy is {}\".format(accuracy))"
   ]
  },
  {
   "cell_type": "markdown",
   "id": "003ec40c",
   "metadata": {},
   "source": [
    "## ResNet training"
   ]
  },
  {
   "cell_type": "code",
   "execution_count": 59,
   "id": "cbb8ee67",
   "metadata": {},
   "outputs": [
    {
     "name": "stdout",
     "output_type": "stream",
     "text": [
      "Downloading data from https://www.cs.toronto.edu/~kriz/cifar-10-python.tar.gz\n",
      "170500096/170498071 [==============================] - 28s 0us/step\n",
      "170508288/170498071 [==============================] - 28s 0us/step\n"
     ]
    }
   ],
   "source": [
    "cifar_data = data_utils.load_cifar10_dataset()"
   ]
  },
  {
   "cell_type": "code",
   "execution_count": 121,
   "id": "71b00ec7",
   "metadata": {},
   "outputs": [],
   "source": [
    "with open(\"hyper_param/resnet_hyperparam.txt\", \"r\") as ifile:\n",
    "    resnet_hyperparam = json.loads(ifile.read())\n",
    "with open(\"hyper_param/default_resnet_hyperparam.txt\", \"r\") as ifile:\n",
    "    default_resnet_hyperparam = json.loads(ifile.read())"
   ]
  },
  {
   "cell_type": "code",
   "execution_count": 123,
   "id": "66116408",
   "metadata": {},
   "outputs": [],
   "source": [
    "model_wrapper = model_arch.ResNetHyper(default_resnet_hyperparam)"
   ]
  },
  {
   "cell_type": "code",
   "execution_count": 61,
   "id": "9f23cbd7",
   "metadata": {},
   "outputs": [
    {
     "data": {
      "text/plain": [
       "<keras.engine.functional.Functional at 0x7ff9d765ea00>"
      ]
     },
     "execution_count": 61,
     "metadata": {},
     "output_type": "execute_result"
    }
   ],
   "source": [
    "model_wrapper.build_model()"
   ]
  },
  {
   "cell_type": "code",
   "execution_count": null,
   "id": "7996f7e4",
   "metadata": {
    "scrolled": true
   },
   "outputs": [],
   "source": [
    "model_wrapper.train(cifar_data[\"training\"][0], cifar_data[\"training\"][1])"
   ]
  },
  {
   "cell_type": "code",
   "execution_count": 63,
   "id": "f17a931b",
   "metadata": {},
   "outputs": [
    {
     "name": "stdout",
     "output_type": "stream",
     "text": [
      "313/313 [==============================] - 6s 19ms/step - loss: 2.0826 - accuracy: 0.2198\n"
     ]
    },
    {
     "data": {
      "text/plain": [
       "0.21979999542236328"
      ]
     },
     "execution_count": 63,
     "metadata": {},
     "output_type": "execute_result"
    }
   ],
   "source": [
    "model_wrapper.evaluate(cifar_data[\"testing\"][0], cifar_data[\"testing\"][1])"
   ]
  },
  {
   "cell_type": "markdown",
   "id": "3e62daa3",
   "metadata": {},
   "source": [
    "## CNN for TEXT"
   ]
  },
  {
   "cell_type": "code",
   "execution_count": 79,
   "id": "5e4f715d",
   "metadata": {},
   "outputs": [
    {
     "name": "stdout",
     "output_type": "stream",
     "text": [
      "Downloading data from https://storage.googleapis.com/tensorflow/tf-keras-datasets/imdb.npz\n",
      "17465344/17464789 [==============================] - 2s 0us/step\n",
      "17473536/17464789 [==============================] - 2s 0us/step\n"
     ]
    }
   ],
   "source": [
    "imdb_data = data_utils.load_imdb_dataset(maxlen=500)"
   ]
  },
  {
   "cell_type": "code",
   "execution_count": 124,
   "id": "aa76c437",
   "metadata": {},
   "outputs": [],
   "source": [
    "with open(\"hyper_param/cnntext_hyperparam.txt\", \"r\") as ifile:\n",
    "    cnntext_hyperparam = json.loads(ifile.read())\n",
    "with open(\"hyper_param/default_cnntext_hyperparam.txt\", \"r\") as ifile:\n",
    "    default_cnntext_hyperparam = json.loads(ifile.read())"
   ]
  },
  {
   "cell_type": "code",
   "execution_count": 125,
   "id": "fd1f1c20",
   "metadata": {},
   "outputs": [],
   "source": [
    "model_wrapper = model_arch.CNNTextHyper(default_cnntext_hyperparam)"
   ]
  },
  {
   "cell_type": "code",
   "execution_count": 95,
   "id": "c79691e5",
   "metadata": {},
   "outputs": [
    {
     "data": {
      "text/plain": [
       "<keras.engine.functional.Functional at 0x7ff9d5742f70>"
      ]
     },
     "execution_count": 95,
     "metadata": {},
     "output_type": "execute_result"
    }
   ],
   "source": [
    "model_wrapper.build_model()"
   ]
  },
  {
   "cell_type": "code",
   "execution_count": null,
   "id": "9fbb5355",
   "metadata": {},
   "outputs": [],
   "source": [
    "model_wrapper.train(imdb_data[\"training\"][0], imdb_data[\"training\"][1])"
   ]
  },
  {
   "cell_type": "code",
   "execution_count": 81,
   "id": "c602d833",
   "metadata": {},
   "outputs": [
    {
     "name": "stdout",
     "output_type": "stream",
     "text": [
      "782/782 [==============================] - 4s 4ms/step - loss: 0.3978 - accuracy: 0.8560\n"
     ]
    },
    {
     "data": {
      "text/plain": [
       "0.8559600114822388"
      ]
     },
     "execution_count": 81,
     "metadata": {},
     "output_type": "execute_result"
    }
   ],
   "source": [
    "model_wrapper.evaluate(imdb_data[\"testing\"][0], imdb_data[\"testing\"][1])"
   ]
  },
  {
   "cell_type": "markdown",
   "id": "4e880f30",
   "metadata": {},
   "source": [
    "## LSTM"
   ]
  },
  {
   "cell_type": "code",
   "execution_count": 97,
   "id": "23b11a8b",
   "metadata": {},
   "outputs": [],
   "source": [
    "imdb_data = data_utils.load_imdb_dataset(maxlen=200)"
   ]
  },
  {
   "cell_type": "code",
   "execution_count": 127,
   "id": "6241371c",
   "metadata": {},
   "outputs": [],
   "source": [
    "with open(\"hyper_param/lstm_hyperparam.txt\", \"r\") as ifile:\n",
    "    lstm_hyperparam = json.loads(ifile.read())\n",
    "with open(\"hyper_param/default_lstm_hyperparam.txt\", \"r\") as ifile:\n",
    "    default_lstm_hyperparam = json.loads(ifile.read())"
   ]
  },
  {
   "cell_type": "code",
   "execution_count": 128,
   "id": "5422422b",
   "metadata": {},
   "outputs": [],
   "source": [
    "model_wrapper = model_arch.LSTMTextHyper(default_lstm_hyperparam)"
   ]
  },
  {
   "cell_type": "code",
   "execution_count": 99,
   "id": "0796a45e",
   "metadata": {},
   "outputs": [
    {
     "data": {
      "text/plain": [
       "<keras.engine.functional.Functional at 0x7ff9c4c9ed90>"
      ]
     },
     "execution_count": 99,
     "metadata": {},
     "output_type": "execute_result"
    }
   ],
   "source": [
    "model_wrapper.build_model()"
   ]
  },
  {
   "cell_type": "code",
   "execution_count": 100,
   "id": "db8808df",
   "metadata": {
    "scrolled": true
   },
   "outputs": [
    {
     "name": "stdout",
     "output_type": "stream",
     "text": [
      "Epoch 1/2\n",
      "704/704 [==============================] - 31s 38ms/step - loss: 0.4048 - accuracy: 0.8206 - val_loss: 0.3419 - val_accuracy: 0.8580\n",
      "Epoch 2/2\n",
      "704/704 [==============================] - 26s 36ms/step - loss: 0.2186 - accuracy: 0.9167 - val_loss: 0.3063 - val_accuracy: 0.8684\n"
     ]
    }
   ],
   "source": [
    "model_wrapper.train(imdb_data[\"training\"][0], imdb_data[\"training\"][1])"
   ]
  },
  {
   "cell_type": "code",
   "execution_count": null,
   "id": "1e7fb2e5",
   "metadata": {},
   "outputs": [],
   "source": [
    "model_wrapper.evaluate(imdb_data[\"testing\"][0], imdb_data[\"testing\"][1])"
   ]
  }
 ],
 "metadata": {
  "kernelspec": {
   "display_name": "Python 3",
   "language": "python",
   "name": "python3"
  },
  "language_info": {
   "codemirror_mode": {
    "name": "ipython",
    "version": 3
   },
   "file_extension": ".py",
   "mimetype": "text/x-python",
   "name": "python",
   "nbconvert_exporter": "python",
   "pygments_lexer": "ipython3",
   "version": "3.8.5"
  }
 },
 "nbformat": 4,
 "nbformat_minor": 5
}
